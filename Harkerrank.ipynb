{
 "cells": [
  {
   "cell_type": "code",
   "execution_count": null,
   "metadata": {},
   "outputs": [],
   "source": [
    "############# jumpingOnClouds function###################"
   ]
  },
  {
   "cell_type": "code",
   "execution_count": 2,
   "metadata": {},
   "outputs": [],
   "source": [
    "import math\n",
    "import os\n",
    "import random\n",
    "import re\n",
    "import sys\n",
    "\n",
    "# Complete the jumpingOnClouds function below.\n",
    "# complexity space: O(1), time: O(n)\n",
    "\n",
    "def jumpingOnClouds(c):\n",
    "    cn=0\n",
    "    i=0\n",
    "    while(i<len(c)-1):\n",
    "        if i==len(c)-2:\n",
    "            i+=1\n",
    "        elif c[i+2]!=1:\n",
    "            i+=2\n",
    "        else:\n",
    "            i+=1\n",
    "        cn=cn+1\n",
    "    return cn"
   ]
  },
  {
   "cell_type": "code",
   "execution_count": 3,
   "metadata": {},
   "outputs": [
    {
     "data": {
      "text/plain": [
       "4"
      ]
     },
     "execution_count": 3,
     "metadata": {},
     "output_type": "execute_result"
    }
   ],
   "source": [
    "c = [0, 0, 1, 0, 0, 1, 0]\n",
    "jumpingOnClouds(c)"
   ]
  },
  {
   "cell_type": "code",
   "execution_count": 4,
   "metadata": {},
   "outputs": [],
   "source": [
    "############## Sock problem #######"
   ]
  },
  {
   "cell_type": "code",
   "execution_count": null,
   "metadata": {},
   "outputs": [],
   "source": [
    "def staircase(n):\n",
    "    for i in range(1,n+1):\n",
    "        if i<n:\n",
    "            print(' '*(n-i-1), '#'*(i))\n",
    "        elif i==n:\n",
    "            print('#'*(i))\n",
    "    return 0"
   ]
  },
  {
   "cell_type": "code",
   "execution_count": null,
   "metadata": {},
   "outputs": [],
   "source": [
    "def diffdiag(arr):\n",
    "    s=diag2=0\n",
    "    for i in range(len(arr)):\n",
    "        s=s+arr[i][i]\n",
    "        diag2=diag2+arr[i][n-i-1]\n",
    "    diff=s-diag2\n",
    "    return diff if diff>0 else -diff"
   ]
  },
  {
   "cell_type": "code",
   "execution_count": null,
   "metadata": {},
   "outputs": [],
   "source": [
    "def miniMaxSum(arr):\n",
    "    l=sorted(arr)\n",
    "    smin=sum(l[0:4])\n",
    "    smax=sum(l[-4:])\n",
    "    print(smin, smax)\n",
    "    return 0"
   ]
  },
  {
   "cell_type": "code",
   "execution_count": null,
   "metadata": {},
   "outputs": [],
   "source": [
    "def birthdayCakeCandles(ar):\n",
    "    m=max(ar)\n",
    "    c=0\n",
    "    for i in range(len(ar)):\n",
    "        if ar[i]==m:\n",
    "            c=c+1\n",
    "    return c"
   ]
  },
  {
   "cell_type": "code",
   "execution_count": null,
   "metadata": {},
   "outputs": [],
   "source": [
    "def timeConversion(s):\n",
    "    l=s[:-2]\n",
    "    if s[-2:]=='PM':\n",
    "        if s[:2]=='12':\n",
    "            result=l\n",
    "        else:\n",
    "            h = (12 + int(s[:2]))%24\n",
    "            h1=str(h)\n",
    "            result=h1+l[2:]\n",
    "    else:\n",
    "        if s[:2]=='12':\n",
    "            h1='00'\n",
    "            result=h1+l[2:]\n",
    "        else:\n",
    "            result=l\n",
    "    return result"
   ]
  },
  {
   "cell_type": "code",
   "execution_count": null,
   "metadata": {},
   "outputs": [],
   "source": [
    "def gradingStudents(grades):\n",
    "    for i in range(len(grades)):\n",
    "        a=str(grades[i])\n",
    "        if a[-1]=='0' or a[-1]=='5' or a[-1]=='1' or a[-1]=='2' or a[-1]=='6' or a[-1]=='7' or grades[i]<38:\n",
    "            grades[i]=(grades[i])\n",
    "        elif a[-1]=='3' or a[-1]=='4':\n",
    "            s=a[0]+'5'\n",
    "            grades[i]=s\n",
    "        else:\n",
    "            s=str(int(a[0])+1) + '0'\n",
    "            grades[i]=s\n",
    "    return grades"
   ]
  },
  {
   "cell_type": "code",
   "execution_count": null,
   "metadata": {},
   "outputs": [],
   "source": []
  },
  {
   "cell_type": "code",
   "execution_count": null,
   "metadata": {},
   "outputs": [],
   "source": [
    "################# code signal ##################"
   ]
  },
  {
   "cell_type": "code",
   "execution_count": null,
   "metadata": {},
   "outputs": [],
   "source": []
  },
  {
   "cell_type": "code",
   "execution_count": null,
   "metadata": {},
   "outputs": [],
   "source": [
    "def centuryFromYear(year):\n",
    "    r=0\n",
    "    s=str(0)\n",
    "    b=0\n",
    "    if year <= 100:\n",
    "        return 1\n",
    "    a=str(year)\n",
    "    if len(a)==3:\n",
    "        a=s+a\n",
    "    if a[2:] == '00':\n",
    "        r=int(a[:2])\n",
    "    else:\n",
    "        r=(int(a[:2])+1)\n",
    "    return r"
   ]
  },
  {
   "cell_type": "code",
   "execution_count": 14,
   "metadata": {},
   "outputs": [
    {
     "name": "stdout",
     "output_type": "stream",
     "text": [
      "False\n"
     ]
    }
   ],
   "source": [
    "input='aabaa'\n",
    "b=list(input)\n",
    "r=b.reverse()\n",
    "print(b==r)"
   ]
  },
  {
   "cell_type": "code",
   "execution_count": null,
   "metadata": {},
   "outputs": [],
   "source": [
    "def checkPalindrome(inputString):\n",
    "    #b=False\n",
    "    #c=0\n",
    "    l=list(inputString)\n",
    "    #rev = l.reverse()\n",
    "    if len (l)==1:\n",
    "        return True\n",
    "    if inputString==inputString[::-1]:\n",
    "        #c=c+1\n",
    "    #if c==len(l):\n",
    "        b=True\n",
    "    else:\n",
    "        b=False\n",
    "    return b"
   ]
  },
  {
   "cell_type": "code",
   "execution_count": null,
   "metadata": {},
   "outputs": [],
   "source": [
    "def adjacentElementsProduct(inputArray):\n",
    "    liste=[]\n",
    "    for i in range(len(inputArray)-1):\n",
    "        p=inputArray[i] * inputArray[i+1]\n",
    "        liste.append(p)\n",
    "    m=max(liste)\n",
    "    return m"
   ]
  },
  {
   "cell_type": "code",
   "execution_count": null,
   "metadata": {},
   "outputs": [],
   "source": [
    "def shapeArea(n):\n",
    "    r=1\n",
    "    for i in range(2,n+1):\n",
    "\n",
    "\n",
    "        r = r+i*4-4\n",
    "    return r\n",
    "\n",
    "##############ou encore#######\n",
    "\n",
    "def shapeArea(n):\n",
    "\n",
    "\n",
    "    r = 4*n*(n+1)/2 -4*n +1\n",
    "    return r"
   ]
  },
  {
   "cell_type": "code",
   "execution_count": 15,
   "metadata": {},
   "outputs": [
    {
     "data": {
      "text/plain": [
       "[0, 3, 4, 8]"
      ]
     },
     "execution_count": 15,
     "metadata": {},
     "output_type": "execute_result"
    }
   ],
   "source": [
    "def makeArrayConsecutive2(statues):\n",
    "    if len(statues)==1:\n",
    "        return 0\n",
    "    c=0\n",
    "    s=sorted(statues)\n",
    "    for i in range(len(statues)-1):\n",
    "            c=c+s[i+1] - s[i] -1\n",
    "        \n",
    "    return c"
   ]
  },
  {
   "cell_type": "code",
   "execution_count": 21,
   "metadata": {},
   "outputs": [
    {
     "name": "stdout",
     "output_type": "stream",
     "text": [
      "yes\n"
     ]
    }
   ],
   "source": [
    "l=[2,3,4]\n",
    "l.pop(2)\n",
    "a=sorted(l)\n",
    "if a==l:\n",
    "    print('yes')"
   ]
  },
  {
   "cell_type": "code",
   "execution_count": 38,
   "metadata": {},
   "outputs": [],
   "source": [
    "def almostIncreasingSequence(sequence):\n",
    "    b = False\n",
    "    for i in range(len(sequence)):\n",
    "        copy = sequence.copy()\n",
    "        copy.pop(i)\n",
    "        if len(set(copy))==len(copy):\n",
    "            if sorted(copy)==copy:\n",
    "                b=True\n",
    "    return b"
   ]
  },
  {
   "cell_type": "code",
   "execution_count": 39,
   "metadata": {},
   "outputs": [
    {
     "data": {
      "text/plain": [
       "True"
      ]
     },
     "execution_count": 39,
     "metadata": {},
     "output_type": "execute_result"
    }
   ],
   "source": [
    "s=[3] \n",
    "almostIncreasingSequence(s)"
   ]
  },
  {
   "cell_type": "code",
   "execution_count": null,
   "metadata": {},
   "outputs": [],
   "source": [
    "def countApplesAndOranges(s, t, a, b, apples, oranges):\n",
    "    c=0\n",
    "    d=0\n",
    "    #copy=apples.copy()\n",
    "    #copy2=oranges.copy()\n",
    "        \n",
    "    for i in range(len(apples)):\n",
    "\n",
    "        apples[i]=apples[i]+a\n",
    "        if apples[i]>=s and apples[i]<=t:\n",
    "\n",
    "            c=c+1\n",
    "    \n",
    "    for i in range(len(oranges)):\n",
    "        \n",
    "        oranges[i]=oranges[i]+b\n",
    "        if oranges[i]>=s and oranges[i]<=t:\n",
    "\n",
    "            d=d+1\n",
    "    print(c)\n",
    "    print(d)\n",
    "    return [c,d]"
   ]
  },
  {
   "cell_type": "code",
   "execution_count": null,
   "metadata": {},
   "outputs": [],
   "source": [
    "def kangaroo(x1, v1, x2, v2):\n",
    "    c = x1-x2\n",
    "    d = v2-v1\n",
    "    if d!=0 and c % d==0 and c//d>0:\n",
    "        return 'YES'\n",
    "    else:\n",
    "        return 'NO'\n",
    "    return r"
   ]
  },
  {
   "cell_type": "code",
   "execution_count": null,
   "metadata": {},
   "outputs": [],
   "source": []
  },
  {
   "cell_type": "code",
   "execution_count": 7,
   "metadata": {},
   "outputs": [],
   "source": [
    "def getTotalX(a, b):\n",
    "    c3=0\n",
    "    #l=[]\n",
    "    for i in range(max(a),min(b)+1):\n",
    "        c1=c2=0\n",
    "        for j in a:\n",
    "            if i%j==0:\n",
    "\n",
    "                c1+=1\n",
    "        for k in b:\n",
    "            if k%i==0:\n",
    "\n",
    "                c2+=1\n",
    "        if c1==len(a) and c2==len(b):\n",
    "            c3+=1\n",
    "            print(i, c1, c2)\n",
    "\n",
    "    return c3"
   ]
  },
  {
   "cell_type": "code",
   "execution_count": 12,
   "metadata": {},
   "outputs": [
    {
     "data": {
      "text/plain": [
       "[16, 32, 96]"
      ]
     },
     "execution_count": 12,
     "metadata": {},
     "output_type": "execute_result"
    }
   ],
   "source": [
    "a=[2,4]\n",
    "b=[16, 32, 96]\n",
    "b[:3]\n",
    "#getTotalX(a,b)"
   ]
  },
  {
   "cell_type": "code",
   "execution_count": null,
   "metadata": {},
   "outputs": [],
   "source": [
    "def breakingRecords(scores):\n",
    "    dec=inc=0\n",
    "    for i in range (len(scores)-1):\n",
    "        if min(scores[:i+1])>scores[i+1]:\n",
    "            dec+=1\n",
    "        if max(scores[:i+1])<scores[i+1]:\n",
    "            inc+=1\n",
    "    print(inc)\n",
    "    print(dec)\n",
    "    return inc,dec "
   ]
  },
  {
   "cell_type": "code",
   "execution_count": null,
   "metadata": {},
   "outputs": [],
   "source": [
    "def birthday(s, d, m):\n",
    "    c=0\n",
    "    \n",
    "    for i in range(len(s)):\n",
    "        s_m=0\n",
    "        for j in range(m):\n",
    "            if i+j == len(s):\n",
    "                break\n",
    "            s_m = s_m + s[i+j]\n",
    "        if s_m == d:\n",
    "            c=c+1\n",
    "            \n",
    "    return c"
   ]
  },
  {
   "cell_type": "code",
   "execution_count": 26,
   "metadata": {},
   "outputs": [],
   "source": [
    "def divisibleSumPairs(n, k, ar):\n",
    "    c=0\n",
    "    for i in range(len(ar)):\n",
    "        for j in range(i+1, len(ar)):\n",
    "\n",
    "            if (ar[i]+ar[j]) % k == 0:\n",
    "                c=c+1\n",
    "    return c"
   ]
  },
  {
   "cell_type": "code",
   "execution_count": 27,
   "metadata": {},
   "outputs": [
    {
     "data": {
      "text/plain": [
       "5"
      ]
     },
     "execution_count": 27,
     "metadata": {},
     "output_type": "execute_result"
    }
   ],
   "source": [
    "n=6\n",
    "k=3\n",
    "ar = [1,3,2,6,1,2]\n",
    "divisibleSumPairs(n, k, ar)"
   ]
  },
  {
   "cell_type": "code",
   "execution_count": null,
   "metadata": {},
   "outputs": [],
   "source": []
  }
 ],
 "metadata": {
  "kernelspec": {
   "display_name": "Python 3",
   "language": "python",
   "name": "python3"
  },
  "language_info": {
   "codemirror_mode": {
    "name": "ipython",
    "version": 3
   },
   "file_extension": ".py",
   "mimetype": "text/x-python",
   "name": "python",
   "nbconvert_exporter": "python",
   "pygments_lexer": "ipython3",
   "version": "3.7.3"
  }
 },
 "nbformat": 4,
 "nbformat_minor": 2
}
